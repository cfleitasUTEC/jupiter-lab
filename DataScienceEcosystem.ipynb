{
 "cells": [
  {
   "cell_type": "markdown",
   "id": "6903233e-452a-457c-afe8-15f4a95fc1df",
   "metadata": {},
   "source": [
    "<h1>Data Science Tools and Ecosystem</h1>"
   ]
  },
  {
   "cell_type": "markdown",
   "id": "ae020eb4-0bf8-40d6-b2a0-f015f6cf9f19",
   "metadata": {},
   "source": [
    "**Objectives:**\n",
    "<ul>\n",
    "  <li>List popular languages for Data Science</li>\n",
    "  <li>Create a code cell to convert minutes to hours</li>\n",
    "  <li>Create a code cell to multiply and add numbers</li>\n",
    "  <li>Create a markdown cell introducing arithmetic expression examples</li>\n",
    "  <li>Create a markdown cell with a table of Data Science tools</li>\n",
    "</ul>"
   ]
  },
  {
   "cell_type": "markdown",
   "id": "f09c7960-918d-4556-9bdd-84b88f292ef0",
   "metadata": {},
   "source": [
    "<p>In this notebook, Data Science Tools and Ecosystem are summarized.</p>"
   ]
  },
  {
   "cell_type": "markdown",
   "id": "cef1bbb8-a4ff-4d56-9574-31edcc2ed3ca",
   "metadata": {},
   "source": [
    "<p>Some of the popular languages that Data Scientists use are:</p>\n",
    "<ol>\n",
    "    <li>Python</li>\n",
    "    <li>R</li>\n",
    "    <li>SQL</li>\n",
    "</ol>"
   ]
  },
  {
   "cell_type": "markdown",
   "id": "e35467ac-1fc4-492c-a7de-0eb1b8197c0f",
   "metadata": {
    "tags": []
   },
   "source": [
    "<p>Some of the commonly used libraries used by Data Scientists include:</p>\n",
    "<ol>\n",
    "  <li>Pandas (Python)</li>\n",
    "  <li>ggplot2 (R)</li>\n",
    "  <li>NumPy (Python)</li>\n",
    "</ol>"
   ]
  },
  {
   "cell_type": "markdown",
   "id": "b3812c7f-fd1e-4c38-9d9a-874c9e516dbf",
   "metadata": {},
   "source": [
    "<table border=\"1\">\n",
    "  <tr>\n",
    "    <th>Data Science Tools</th>\n",
    "  </tr>\n",
    "  <tr>\n",
    "    <td>Jupyter Notebook</td>\n",
    "  </tr>\n",
    "  <tr>\n",
    "    <td>RStudio</td>\n",
    "  </tr>\n",
    "  <tr>\n",
    "    <td>Apache Zeppelin</td>\n",
    "  </tr>\n",
    "</table>"
   ]
  },
  {
   "cell_type": "markdown",
   "id": "04cac726-ec37-42af-ae37-2154c1fb3de3",
   "metadata": {},
   "source": [
    "<h3>Below are a few examples of evaluating arithmetic expressions in Python</h3>"
   ]
  },
  {
   "cell_type": "code",
   "execution_count": 2,
   "id": "615cae03-acbe-4052-956e-6010a7ff7ad2",
   "metadata": {
    "tags": []
   },
   "outputs": [
    {
     "data": {
      "text/plain": [
       "17"
      ]
     },
     "execution_count": 2,
     "metadata": {},
     "output_type": "execute_result"
    }
   ],
   "source": [
    "#This a simple arithmetic expression to mutiply then add integers\n",
    "(3*4)+5"
   ]
  },
  {
   "cell_type": "code",
   "execution_count": 3,
   "id": "73cd8631-449c-455e-b01f-94ffdb347091",
   "metadata": {
    "tags": []
   },
   "outputs": [
    {
     "data": {
      "text/plain": [
       "3.3333333333333335"
      ]
     },
     "execution_count": 3,
     "metadata": {},
     "output_type": "execute_result"
    }
   ],
   "source": [
    "#This will convert 200 minutes to hours by diving by 60\n",
    "minutes = 200\n",
    "hours = minutes / 60\n",
    "hours"
   ]
  },
  {
   "cell_type": "markdown",
   "id": "14858ab5-43c6-4408-a1f8-abc7ccd89727",
   "metadata": {},
   "source": [
    "<h2>Author</h2>\n",
    "Maria Clara Fleitas"
   ]
  }
 ],
 "metadata": {
  "kernelspec": {
   "display_name": "Python",
   "language": "python",
   "name": "conda-env-python-py"
  },
  "language_info": {
   "codemirror_mode": {
    "name": "ipython",
    "version": 3
   },
   "file_extension": ".py",
   "mimetype": "text/x-python",
   "name": "python",
   "nbconvert_exporter": "python",
   "pygments_lexer": "ipython3",
   "version": "3.7.12"
  }
 },
 "nbformat": 4,
 "nbformat_minor": 5
}
